{
  "nbformat": 4,
  "nbformat_minor": 0,
  "metadata": {
    "colab": {
      "provenance": []
    },
    "kernelspec": {
      "name": "python3",
      "display_name": "Python 3"
    },
    "language_info": {
      "name": "python"
    }
  },
  "cells": [
    {
      "cell_type": "code",
      "execution_count": 1,
      "metadata": {
        "id": "5bB5ViAdTx3f"
      },
      "outputs": [],
      "source": [
        "import requests\n",
        "\n",
        "def check_address_pincode(address):\n",
        "    \"\"\"\n",
        "    This function checks if the provided address corresponds to the PIN code in the address.\n",
        "\n",
        "    The function extracts the PIN code from the address,\n",
        "    sends a GET request to the 'https://api.postalpincode.in/pincode/' API endpoint with the PIN code, and checks the response.\n",
        "    If the response status is 200 and the status of the data is 'Success', it gets the list of places for the PIN code.\n",
        "    It then checks if any of the places are in the address.\n",
        "    If a match is found, it returns \"The provided PIN code corresponds to the address.\" If not, it returns \"Invalid PIN code\".\n",
        "\n",
        "    Parameters:\n",
        "    address (str): The address string which includes the PIN code.\n",
        "\n",
        "    Returns:\n",
        "    str: A message indicating whether the provided PIN code corresponds to the address or not.\n",
        "    \"\"\"\n",
        "    if not address:\n",
        "      return \"Empty input. Please provide address.\"\n",
        "\n",
        "    pincode = address.split()[-1]\n",
        "\n",
        "    # API endpoint\n",
        "    url = f\"https://api.postalpincode.in/pincode/{pincode}\"\n",
        "\n",
        "    # Send GET request\n",
        "    response = requests.get(url)\n",
        "\n",
        "    # Check the status of the request\n",
        "    if response.status_code == 200:\n",
        "        data = response.json()\n",
        "\n",
        "        # Check if the data is valid\n",
        "        if data[0]['Status'] == 'Success':\n",
        "            # Get the list of places for the pincode\n",
        "            places = [place['Name'] for place in data[0]['PostOffice']]\n",
        "\n",
        "            # Check if any of the places in the address\n",
        "            for place in places:\n",
        "                if place.lower() in address.lower():\n",
        "                    return \"The provided PIN code corresponds to the address.\"\n",
        "            return \"The PIN code is valid, but the address is invalid.\"\n",
        "    return \"Invalid PIN code.\"\n"
      ]
    },
    {
      "cell_type": "code",
      "source": [
        "def validate_addresses(customer_addresses):\n",
        "    \"\"\"\n",
        "    This function iterates over a list of customer addresses and checks if the PIN code in each address corresponds to the actual address mentioned.\n",
        "    It uses the check_address_pincode function to perform this check.\n",
        "\n",
        "    Args:\n",
        "        customer_addresses (list): A list of address strings which include the PIN codes.\n",
        "\n",
        "    Prints:\n",
        "        str: A message indicating whether the PIN code corresponds to the given address or not for each address in the list.\n",
        "    \"\"\"\n",
        "\n",
        "    # Iterate over the list of customer addresses\n",
        "    for address in customer_addresses:\n",
        "        # Call the function check_address_pincode with the current address\n",
        "        result = check_address_pincode(address)\n",
        "\n",
        "        # Print the address and the result of the check\n",
        "        print(f\"Address: {address}\")\n",
        "        print(f\"Result: {result}\")\n",
        "\n",
        "        # Print a separator for readability\n",
        "        print(\"-\" * 30)"
      ],
      "metadata": {
        "id": "xI-MdT6sBm7x"
      },
      "execution_count": 2,
      "outputs": []
    },
    {
      "cell_type": "code",
      "source": [
        "# List of addresses for testing customer_addresses\n",
        "customer_addresses = [\n",
        "                      \"2nd Phase, 374/B, 80 Feet Rd, Mysore Bank Colony, Banashankari 3rd Stage, Srinivasa Nagar, Bengaluru, Karnataka 560050\",\n",
        "                      \"2nd Phase, 374/B, 80 Feet Rd, Bank Colony, Banashankari 3rd Stage, Srinivasa Nagar, Bengaluru, Karnataka 560050\",\n",
        "                      \"374/B, 80 Feet Rd, State Bank Colony, Banashankari 3rd Stage, Srinivasa Nagar, Bangalore. 560050\",\n",
        "                      \"2nd Phase, 374/B, 80 Feet Rd, Mysore Bank Colony, Banashankari 3rd Stage, Srinivasa Nagar, Bengaluru, Karnataka 560095\",\n",
        "                      \"Colony, Bengaluru, Karnataka 560050\"\n",
        "                      ]\n",
        "\n",
        "# Call the function check_addresses with the list of customer addresses\n",
        "# This function will check each address in the list and print the result\n",
        "validate_addresses(customer_addresses)\n"
      ],
      "metadata": {
        "id": "toeRompxDoia"
      },
      "execution_count": null,
      "outputs": []
    }
  ]
}